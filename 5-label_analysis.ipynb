{
  "nbformat": 4,
  "nbformat_minor": 0,
  "metadata": {
    "colab": {
      "provenance": []
    },
    "kernelspec": {
      "name": "python3",
      "display_name": "Python 3"
    },
    "language_info": {
      "name": "python"
    }
  },
  "cells": [
    {
      "cell_type": "code",
      "source": [
        "import pandas as pd\n",
        "import numpy as np\n",
        "from statsmodels.stats.inter_rater import fleiss_kappa\n",
        "import matplotlib.pyplot as plt\n",
        "import seaborn as sns\n",
        "from sklearn.metrics import cohen_kappa_score\n",
        "from itertools import combinations"
      ],
      "metadata": {
        "id": "xB2mNTV1eQvU"
      },
      "execution_count": null,
      "outputs": []
    },
    {
      "cell_type": "code",
      "source": [
        "sheet_id = \"1sQEGYhR2XTuOIeDERvie_BJxmxRxsQMA88bDS6uPxlM\"\n",
        "sheet_name = \"Summary\"\n",
        "\n",
        "csv_url = f\"https://docs.google.com/spreadsheets/d/{sheet_id}/gviz/tq?tqx=out:csv&sheet={sheet_name}\"\n",
        "\n",
        "df = pd.read_csv(csv_url)\n",
        "df = df[['meeting', 'participant','video_clip','DucManh', 'Charlotte', 'Ducanh', 'Money']]"
      ],
      "metadata": {
        "colab": {
          "base_uri": "https://localhost:8080/"
        },
        "id": "D_qzbi3teEEL",
        "outputId": "1740123d-5031-4fcb-a7b2-9337cc2b83c3"
      },
      "execution_count": null,
      "outputs": [
        {
          "output_type": "stream",
          "name": "stdout",
          "text": [
            "    meeting participant        video_clip                  DucManh  \\\n",
            "0  20210323       SP01F  clip_732_737.mp4        Active engagement   \n",
            "1  20210323       SP01F  clip_747_752.mp4        Active engagement   \n",
            "2  20210323       SP01F  clip_837_842.mp4  Intermittent engagement   \n",
            "3  20210323       SP01F  clip_846_851.mp4        Active engagement   \n",
            "4  20210323       SP01F  clip_849_854.mp4        Active engagement   \n",
            "\n",
            "           Charlotte                   Ducanh                    Money  \n",
            "0  Active engagement        Active engagement  Intermittent engagement  \n",
            "1  Active engagement        Active engagement        Active engagement  \n",
            "2  Active engagement        Active engagement  Intermittent engagement  \n",
            "3  Active engagement  Intermittent engagement            Disengagement  \n",
            "4  Active engagement  Intermittent engagement                  unclear  \n"
          ]
        }
      ]
    },
    {
      "cell_type": "code",
      "source": [
        "def compute_fleiss_kappa(df,cols):\n",
        "    labels_df = df[cols].dropna()\n",
        "    all_labels = pd.unique(labels_df.values.ravel())\n",
        "    label_to_id = {label: (3-i) for i, label in enumerate(all_labels)}\n",
        "\n",
        "    video_num = labels_df.shape[0]\n",
        "    label_num = len(label_to_id)\n",
        "\n",
        "    count_matrix = np.zeros((video_num, label_num), dtype=int)\n",
        "\n",
        "    for i, row in enumerate(labels_df.itertuples(index=False)):\n",
        "        for label in row:\n",
        "            label_idx = label_to_id[label]\n",
        "            count_matrix[i, label_idx] += 1\n",
        "\n",
        "    score = fleiss_kappa(count_matrix)\n",
        "\n",
        "    return score"
      ],
      "metadata": {
        "id": "5mfXwEsfe-AC"
      },
      "execution_count": null,
      "outputs": []
    },
    {
      "cell_type": "code",
      "source": [
        "def compute_agreement_dist(df, cols):\n",
        "    label_df = df[['video_clip'] + cols].dropna()\n",
        "    label_dist = []\n",
        "\n",
        "    for i, row in label_df.iterrows():\n",
        "        video = row['video_clip']\n",
        "    labels = row[cols].tolist()\n",
        "    counts = pd.Series(labels).value_counts()\n",
        "\n",
        "    for label, count in counts.items():\n",
        "        label_dist.append({'video_clip': video, 'label': label, 'count': count})\n",
        "\n",
        "    dist_df = pd.DataFrame(label_dist)\n",
        "\n",
        "    agreement = (\n",
        "    label_df[cols]\n",
        "    .apply(lambda row: row.value_counts(normalize=True).max(), axis=1)\n",
        "    .reset_index(drop=True)\n",
        "    )\n",
        "    label_df['agreement'] = agreement\n",
        "    agreement_dist = label_df['agreement'].round(2).value_counts().sort_index()\n",
        "\n",
        "    return agreement_dist"
      ],
      "metadata": {
        "id": "RhEIb8VifAyC"
      },
      "execution_count": null,
      "outputs": []
    },
    {
      "cell_type": "markdown",
      "source": [
        "Fleiss‘s Kappa score(for multiple persons) \\\n",
        "https://en.wikipedia.org/wiki/Fleiss%27_kappa \\\n",
        "< 0 Poor agreement   \\\n",
        "0.01 – 0.20 Slight agreement    \\\n",
        "0.21 – 0.40 Fair agreement \\\n",
        "0.41 – 0.60 Moderate agreement \\\n",
        "0.61 – 0.80 Substantial agreement \\\n",
        "0.81 – 1.00\tAlmost perfect agreement"
      ],
      "metadata": {
        "id": "zVg2MxKtjF8R"
      }
    },
    {
      "cell_type": "code",
      "source": [
        "label_cols = ['DucManh', 'Charlotte', 'Ducanh', 'Money']\n",
        "score = compute_fleiss_kappa(df,label_cols)\n",
        "print(f\"Fleiss' Kappa score: {score:.3f}\\n\")\n",
        "\n",
        "agreement_dist = compute_agreement_dist(df,label_cols)\n",
        "print(f\"The agreement distribution between{label_cols}is:\\n{agreement_dist}\")"
      ],
      "metadata": {
        "colab": {
          "base_uri": "https://localhost:8080/"
        },
        "id": "30UQIb0qfDHA",
        "outputId": "482193a3-f47b-4a42-d18e-d2ff561c1682"
      },
      "execution_count": null,
      "outputs": [
        {
          "output_type": "stream",
          "name": "stdout",
          "text": [
            "Fleiss' Kappa score: 0.277\n",
            "\n",
            "The agreement distribution between['DucManh', 'Charlotte', 'Ducanh', 'Money']is:\n",
            "agreement\n",
            "0.50    46\n",
            "0.75    32\n",
            "1.00    29\n",
            "Name: count, dtype: int64\n"
          ]
        }
      ]
    },
    {
      "cell_type": "code",
      "source": [
        "#agreement between pairs\n",
        "pair_df = df[label_cols].dropna()\n",
        "pairs = list(combinations(label_cols, 2))\n",
        "\n",
        "for user1, user2 in pairs:\n",
        "    kappa = cohen_kappa_score(pair_df[user1], pair_df[user2])\n",
        "    print(f\"Cohen's Kappa between {user1} and {user2}: {kappa:.3f}\")"
      ],
      "metadata": {
        "colab": {
          "base_uri": "https://localhost:8080/"
        },
        "id": "mt2KEHn1fFSD",
        "outputId": "94a0d4ab-4a20-452c-9e76-5c85a2fc6fea"
      },
      "execution_count": null,
      "outputs": [
        {
          "output_type": "stream",
          "name": "stdout",
          "text": [
            "Cohen's Kappa between DucManh and Charlotte: 0.454\n",
            "Cohen's Kappa between DucManh and Ducanh: 0.385\n",
            "Cohen's Kappa between DucManh and Money: 0.103\n",
            "Cohen's Kappa between Charlotte and Ducanh: 0.360\n",
            "Cohen's Kappa between Charlotte and Money: 0.163\n",
            "Cohen's Kappa between Ducanh and Money: 0.231\n"
          ]
        }
      ]
    },
    {
      "cell_type": "markdown",
      "source": [
        "Cohen's Kappa interpretation\n",
        ">0.8\tAlmost Perfect\\\n",
        ">0.6\tSubstantial \\\n",
        ">0.4\tModerate \\\n",
        ">0.2\tFair \\\n",
        "0-0,2\tSlight \\\n",
        "<0\tPoor \\"
      ],
      "metadata": {
        "id": "7W2HUZm6iy3Y"
      }
    },
    {
      "cell_type": "code",
      "source": [
        "all_dist = {\n",
        "    user: pair_df[user].value_counts(normalize=True)\n",
        "    for user in label_cols\n",
        "}\n",
        "label_dist_df = pd.DataFrame(all_dist).fillna(0)  # 缺失的标签填 0\n",
        "label_dist_df = label_dist_df.sort_index()\n",
        "\n",
        "print(\"label distribution:\")\n",
        "print(label_dist_df)"
      ],
      "metadata": {
        "colab": {
          "base_uri": "https://localhost:8080/"
        },
        "id": "T0iNGrHKfIYE",
        "outputId": "a92cf748-6dbe-4aa9-b259-533fd892a1b5"
      },
      "execution_count": null,
      "outputs": [
        {
          "output_type": "stream",
          "name": "stdout",
          "text": [
            "label distribution:\n",
            "                          DucManh  Charlotte    Ducanh     Money\n",
            "Active engagement        0.495327   0.532710  0.392523  0.355140\n",
            "Disengagement            0.177570   0.121495  0.271028  0.224299\n",
            "Intermittent engagement  0.317757   0.308411  0.327103  0.401869\n",
            "unclear                  0.009346   0.037383  0.009346  0.018692\n"
          ]
        }
      ]
    },
    {
      "cell_type": "code",
      "source": [
        "# excluding 'Money'\n",
        "label_cols_3 = ['DucManh', 'Charlotte', 'Ducanh']\n",
        "score_3 = compute_fleiss_kappa(df, label_cols_3)\n",
        "print(f\"Fleiss' Kappa score(excluding Money): {score_3:.3f}\")\n",
        "agreement_dist = compute_agreement_dist(df,label_cols_3)\n",
        "print(f\"The agreement distribution between{label_cols_3} is:\\n{agreement_dist}\")"
      ],
      "metadata": {
        "colab": {
          "base_uri": "https://localhost:8080/"
        },
        "id": "J2UnaD-EfK1o",
        "outputId": "f653ae0c-3c39-4b02-c880-e1a779c4f210"
      },
      "execution_count": null,
      "outputs": [
        {
          "output_type": "stream",
          "name": "stdout",
          "text": [
            "Fleiss' Kappa score(excluding Money): 0.395\n",
            "The agreement distribution between['DucManh', 'Charlotte', 'Ducanh'] is:\n",
            "agreement\n",
            "0.33     4\n",
            "0.67    56\n",
            "1.00    47\n",
            "Name: count, dtype: int64\n"
          ]
        }
      ]
    },
    {
      "cell_type": "code",
      "source": [
        "label_df_3 = df[['meeting']+['participant']+['video_clip'] + label_cols_3].dropna()\n",
        "\n",
        "label_df_3['agreement'] = label_df_3[label_cols_3].apply(\n",
        "    lambda row: row.value_counts(normalize=True).max(), axis=1\n",
        ")\n",
        "\n",
        "low_agreement_df = label_df_3[label_df_3['agreement'] == 1/3]\n",
        "\n",
        "print(\"total disagreement clip\")\n",
        "print(low_agreement_df[['meeting']+['participant']+['video_clip'] + label_cols_3 + ['agreement']])"
      ],
      "metadata": {
        "colab": {
          "base_uri": "https://localhost:8080/"
        },
        "id": "xLTawz9ChdUQ",
        "outputId": "a5a299a5-54f7-4890-a99d-ca5fec5c186b"
      },
      "execution_count": null,
      "outputs": [
        {
          "output_type": "stream",
          "name": "stdout",
          "text": [
            "total disagreement clip\n",
            "     meeting participant          video_clip                  DucManh  \\\n",
            "33  20210504       SP09M    clip_282_287.mp4        Active engagement   \n",
            "36  20210504       SP09M    clip_522_527.mp4        Active engagement   \n",
            "68  20210616       SP02F    clip_849_854.mp4        Active engagement   \n",
            "95  20220204       SP03M  clip_2751_2756.mp4  Intermittent engagement   \n",
            "\n",
            "                  Charlotte         Ducanh  agreement  \n",
            "33  Intermittent engagement  Disengagement   0.333333  \n",
            "36  Intermittent engagement  Disengagement   0.333333  \n",
            "68  Intermittent engagement  Disengagement   0.333333  \n",
            "95                  unclear  Disengagement   0.333333  \n"
          ]
        }
      ]
    },
    {
      "cell_type": "code",
      "source": [
        "def majority_vote(row):\n",
        "    return row.value_counts().idxmax()\n",
        "\n",
        "def vote_agreement_level(row):\n",
        "    counts = row.value_counts(normalize=True)\n",
        "    max_vote_ratio = counts.max()\n",
        "    if max_vote_ratio == 1.0:\n",
        "        return 'full'\n",
        "    elif max_vote_ratio >= 2/3:\n",
        "        return 'majority'\n",
        "    else:\n",
        "        return 'disagree'\n",
        "\n",
        "label_df_3['majority_label_3'] = label_df_3[label_cols_3].apply(majority_vote, axis=1)\n",
        "label_df_3['vote_agreement'] = label_df_3[label_cols_3].apply(vote_agreement_level, axis=1)\n",
        "\n",
        "print(label_df_3[['meeting', 'participant', 'video_clip', 'majority_label_3', 'vote_agreement']].head(20))"
      ],
      "metadata": {
        "colab": {
          "base_uri": "https://localhost:8080/"
        },
        "id": "G9wsotakhePt",
        "outputId": "5059a9e3-6f24-48d2-a8ec-b0b1d0d8ac9f"
      },
      "execution_count": null,
      "outputs": [
        {
          "output_type": "stream",
          "name": "stdout",
          "text": [
            "     meeting participant          video_clip         majority_label_3  \\\n",
            "0   20210323       SP01F    clip_732_737.mp4        Active engagement   \n",
            "1   20210323       SP01F    clip_747_752.mp4        Active engagement   \n",
            "2   20210323       SP01F    clip_837_842.mp4        Active engagement   \n",
            "3   20210323       SP01F    clip_846_851.mp4        Active engagement   \n",
            "4   20210323       SP01F    clip_849_854.mp4        Active engagement   \n",
            "5   20210323       SP01F    clip_852_857.mp4        Active engagement   \n",
            "6   20210323       SP01F    clip_948_953.mp4            Disengagement   \n",
            "7   20210323       SP01F    clip_957_962.mp4  Intermittent engagement   \n",
            "8   20210323       SP01F    clip_966_971.mp4            Disengagement   \n",
            "9   20210323       SP01F  clip_1248_1253.mp4        Active engagement   \n",
            "10  20210323       SP06M    clip_417_422.mp4        Active engagement   \n",
            "11  20210323       SP06M    clip_426_431.mp4        Active engagement   \n",
            "12  20210323       SP06M    clip_438_443.mp4  Intermittent engagement   \n",
            "13  20210323       SP06M    clip_618_623.mp4  Intermittent engagement   \n",
            "14  20210323       SP06M    clip_621_626.mp4  Intermittent engagement   \n",
            "15  20210323       SP06M    clip_810_815.mp4        Active engagement   \n",
            "16  20210323       SP06M    clip_984_989.mp4            Disengagement   \n",
            "17  20210323       SP06M  clip_1002_1007.mp4            Disengagement   \n",
            "18  20210323       SP06M  clip_1128_1133.mp4        Active engagement   \n",
            "19  20210323       SP06M  clip_1149_1154.mp4            Disengagement   \n",
            "\n",
            "   vote_agreement  \n",
            "0            full  \n",
            "1            full  \n",
            "2        majority  \n",
            "3        majority  \n",
            "4        majority  \n",
            "5        majority  \n",
            "6        majority  \n",
            "7        majority  \n",
            "8        majority  \n",
            "9            full  \n",
            "10           full  \n",
            "11           full  \n",
            "12       majority  \n",
            "13           full  \n",
            "14       majority  \n",
            "15       majority  \n",
            "16           full  \n",
            "17           full  \n",
            "18       majority  \n",
            "19           full  \n"
          ]
        }
      ]
    }
  ]
}